{
 "cells": [
  {
   "cell_type": "code",
   "execution_count": 1,
   "metadata": {
    "scrolled": true
   },
   "outputs": [],
   "source": [
    "import pandas as pd\n",
    "df_train = pd.read_json('train.json')"
   ]
  },
  {
   "cell_type": "code",
   "execution_count": 2,
   "metadata": {
    "collapsed": true
   },
   "outputs": [],
   "source": [
    "df_train.head()\n",
    "%matplotlib inline\n",
    "import matplotlib.pyplot as plt\n",
    "plt.style.use('ggplot')"
   ]
  },
  {
   "cell_type": "code",
   "execution_count": 8,
   "metadata": {},
   "outputs": [
    {
     "ename": "AttributeError",
     "evalue": "Can only use .str accessor with string values, which use np.object_ dtype in pandas",
     "output_type": "error",
     "traceback": [
      "\u001b[1;31m---------------------------------------------------------------------------\u001b[0m",
      "\u001b[1;31mAttributeError\u001b[0m                            Traceback (most recent call last)",
      "\u001b[1;32m<ipython-input-8-e8a9498dd5a8>\u001b[0m in \u001b[0;36m<module>\u001b[1;34m()\u001b[0m\n\u001b[0;32m      2\u001b[0m \u001b[0mdata\u001b[0m \u001b[1;33m=\u001b[0m \u001b[0mpd\u001b[0m\u001b[1;33m.\u001b[0m\u001b[0mread_csv\u001b[0m\u001b[1;33m(\u001b[0m\u001b[1;34m'matrix.csv'\u001b[0m\u001b[1;33m)\u001b[0m\u001b[1;33m\u001b[0m\u001b[0m\n\u001b[0;32m      3\u001b[0m \u001b[1;32mfor\u001b[0m \u001b[0mcolumn\u001b[0m \u001b[1;32min\u001b[0m \u001b[0mdata\u001b[0m\u001b[1;33m:\u001b[0m\u001b[1;33m\u001b[0m\u001b[0m\n\u001b[1;32m----> 4\u001b[1;33m     \u001b[0mdata\u001b[0m\u001b[1;33m[\u001b[0m\u001b[0mcolumn\u001b[0m\u001b[1;33m]\u001b[0m \u001b[1;33m=\u001b[0m \u001b[0mdata\u001b[0m\u001b[1;33m[\u001b[0m\u001b[0mcolumn\u001b[0m\u001b[1;33m]\u001b[0m\u001b[1;33m.\u001b[0m\u001b[0mstr\u001b[0m\u001b[1;33m.\u001b[0m\u001b[0mencode\u001b[0m\u001b[1;33m(\u001b[0m\u001b[1;34m'ascii'\u001b[0m\u001b[1;33m,\u001b[0m \u001b[1;34m'ignore'\u001b[0m\u001b[1;33m)\u001b[0m\u001b[1;33m\u001b[0m\u001b[0m\n\u001b[0m\u001b[0;32m      5\u001b[0m \u001b[0mdata\u001b[0m\u001b[1;33m.\u001b[0m\u001b[0mset_index\u001b[0m\u001b[1;33m(\u001b[0m\u001b[1;34m'cuisine'\u001b[0m\u001b[1;33m,\u001b[0m\u001b[0minplace\u001b[0m\u001b[1;33m=\u001b[0m\u001b[0mTrue\u001b[0m\u001b[1;33m)\u001b[0m\u001b[1;33m\u001b[0m\u001b[0m\n",
      "\u001b[1;32mC:\\Users\\Suhas\\Anaconda2\\lib\\site-packages\\pandas\\core\\generic.pyc\u001b[0m in \u001b[0;36m__getattr__\u001b[1;34m(self, name)\u001b[0m\n\u001b[0;32m   3075\u001b[0m         if (name in self._internal_names_set or name in self._metadata or\n\u001b[0;32m   3076\u001b[0m                 name in self._accessors):\n\u001b[1;32m-> 3077\u001b[1;33m             \u001b[1;32mreturn\u001b[0m \u001b[0mobject\u001b[0m\u001b[1;33m.\u001b[0m\u001b[0m__getattribute__\u001b[0m\u001b[1;33m(\u001b[0m\u001b[0mself\u001b[0m\u001b[1;33m,\u001b[0m \u001b[0mname\u001b[0m\u001b[1;33m)\u001b[0m\u001b[1;33m\u001b[0m\u001b[0m\n\u001b[0m\u001b[0;32m   3078\u001b[0m         \u001b[1;32melse\u001b[0m\u001b[1;33m:\u001b[0m\u001b[1;33m\u001b[0m\u001b[0m\n\u001b[0;32m   3079\u001b[0m             \u001b[1;32mif\u001b[0m \u001b[0mname\u001b[0m \u001b[1;32min\u001b[0m \u001b[0mself\u001b[0m\u001b[1;33m.\u001b[0m\u001b[0m_info_axis\u001b[0m\u001b[1;33m:\u001b[0m\u001b[1;33m\u001b[0m\u001b[0m\n",
      "\u001b[1;32mC:\\Users\\Suhas\\Anaconda2\\lib\\site-packages\\pandas\\core\\base.pyc\u001b[0m in \u001b[0;36m__get__\u001b[1;34m(self, instance, owner)\u001b[0m\n\u001b[0;32m    241\u001b[0m             \u001b[1;31m# this ensures that Series.str.<method> is well defined\u001b[0m\u001b[1;33m\u001b[0m\u001b[1;33m\u001b[0m\u001b[0m\n\u001b[0;32m    242\u001b[0m             \u001b[1;32mreturn\u001b[0m \u001b[0mself\u001b[0m\u001b[1;33m.\u001b[0m\u001b[0maccessor_cls\u001b[0m\u001b[1;33m\u001b[0m\u001b[0m\n\u001b[1;32m--> 243\u001b[1;33m         \u001b[1;32mreturn\u001b[0m \u001b[0mself\u001b[0m\u001b[1;33m.\u001b[0m\u001b[0mconstruct_accessor\u001b[0m\u001b[1;33m(\u001b[0m\u001b[0minstance\u001b[0m\u001b[1;33m)\u001b[0m\u001b[1;33m\u001b[0m\u001b[0m\n\u001b[0m\u001b[0;32m    244\u001b[0m \u001b[1;33m\u001b[0m\u001b[0m\n\u001b[0;32m    245\u001b[0m     \u001b[1;32mdef\u001b[0m \u001b[0m__set__\u001b[0m\u001b[1;33m(\u001b[0m\u001b[0mself\u001b[0m\u001b[1;33m,\u001b[0m \u001b[0minstance\u001b[0m\u001b[1;33m,\u001b[0m \u001b[0mvalue\u001b[0m\u001b[1;33m)\u001b[0m\u001b[1;33m:\u001b[0m\u001b[1;33m\u001b[0m\u001b[0m\n",
      "\u001b[1;32mC:\\Users\\Suhas\\Anaconda2\\lib\\site-packages\\pandas\\core\\strings.pyc\u001b[0m in \u001b[0;36m_make_str_accessor\u001b[1;34m(self)\u001b[0m\n\u001b[0;32m   1907\u001b[0m             \u001b[1;31m# (instead of test for object dtype), but that isn't practical for\u001b[0m\u001b[1;33m\u001b[0m\u001b[1;33m\u001b[0m\u001b[0m\n\u001b[0;32m   1908\u001b[0m             \u001b[1;31m# performance reasons until we have a str dtype (GH 9343)\u001b[0m\u001b[1;33m\u001b[0m\u001b[1;33m\u001b[0m\u001b[0m\n\u001b[1;32m-> 1909\u001b[1;33m             raise AttributeError(\"Can only use .str accessor with string \"\n\u001b[0m\u001b[0;32m   1910\u001b[0m                                  \u001b[1;34m\"values, which use np.object_ dtype in \"\u001b[0m\u001b[1;33m\u001b[0m\u001b[0m\n\u001b[0;32m   1911\u001b[0m                                  \"pandas\")\n",
      "\u001b[1;31mAttributeError\u001b[0m: Can only use .str accessor with string values, which use np.object_ dtype in pandas"
     ]
    },
    {
     "data": {
      "image/png": "[encoded data removed]",
      "text/plain": [
       "<matplotlib.figure.Figure at 0xe62ea20>"
      ]
     },
     "metadata": {},
     "output_type": "display_data"
    }
   ],
   "source": [
    "df_train['cuisine'].value_counts().plot(kind='bar')\n",
    "data = pd.read_csv('matrix.csv')\n",
    "data.set_index('cuisine',inplace=True)"
   ]
  },
  {
   "cell_type": "code",
   "execution_count": 7,
   "metadata": {},
   "outputs": [
    {
     "data": {
      "text/plain": [
       "Index([u'condensedsoup', u'frozenspinach', u'condensedcheddarcheesesoup',\n",
       "       u'citrusfruit', u'gratedgruyrecheese', u'freshdates',\n",
       "       u'roteldicedtomatoesgreenchilies', u'orangeglaze',\n",
       "       u'wholewheatpennepasta', u'tysoncrispychickenstrips',\n",
       "       ...\n",
       "       u'oldelpasoflourtortillas', u'pumpkinseeds', u'crispyricecereal',\n",
       "       u'knorrtomatobouillonwithchickenflavorcube', u'gelato', u'browngravy',\n",
       "       u'agaragarflakes', u'ediblegoldleaf', u'sorghummolasses',\n",
       "       u'liquidhoney'],\n",
       "      dtype='object', length=6651)"
      ]
     },
     "execution_count": 7,
     "metadata": {},
     "output_type": "execute_result"
    }
   ],
   "source": [
    "data.columns\n"
   ]
  },
  {
   "cell_type": "code",
   "execution_count": null,
   "metadata": {},
   "outputs": [],
   "source": [
    "import numpy as np; import pandas as pd\n",
    "from sklearn.metrics.pairwise import cosine_similarity\n",
    "cos = cosine_similarity(data)\n",
    "\n",
    "import matplotlib.pyplot as plt\n",
    "plt.figure(figsize = (20,20))\n",
    "plt.matshow(cos,fignum =1)\n",
    "plt.show()"
   ]
  },
  {
   "cell_type": "code",
   "execution_count": null,
   "metadata": {
    "collapsed": true
   },
   "outputs": [],
   "source": [
    "df_dummy = pd.read_csv('result.csv')\n",
    "df_dummy = df_dummy.drop('Max',1)"
   ]
  },
  {
   "cell_type": "code",
   "execution_count": null,
   "metadata": {
    "collapsed": true
   },
   "outputs": [],
   "source": [
    "def strip_non_ascii(string):\n",
    "    ''' Returns the string without non ASCII characters'''\n",
    "    string = string[3:len(string)-1] #(c for c in string if 0 < ord(c) < 127)\n",
    "    return string\n",
    "\n",
    "df_dummy.columns = [strip_non_ascii(x) for x in df_dummy.columns]"
   ]
  },
  {
   "cell_type": "code",
   "execution_count": null,
   "metadata": {
    "collapsed": true
   },
   "outputs": [],
   "source": [
    "df_dummy.rename(columns = {'':'ingredients'},inplace = True)\n",
    "df_dummy_t = df_dummy.set_index('ingredients').T\n",
    "data1 = df_dummy_t"
   ]
  },
  {
   "cell_type": "code",
   "execution_count": null,
   "metadata": {
    "collapsed": true
   },
   "outputs": [],
   "source": [
    "def strip_non_ascii(string):\n",
    "    ''' Returns the string without non ASCII characters'''\n",
    "    string = string[3:len(string)-1] #(c for c in string if 0 < ord(c) < 127)\n",
    "    return string\n",
    "\n",
    "data1.columns = [strip_non_ascii(x) for x in data1.columns]"
   ]
  },
  {
   "cell_type": "code",
   "execution_count": null,
   "metadata": {
    "collapsed": true
   },
   "outputs": [],
   "source": [
    "for i in range(0,20):\n",
    "    data1.iloc[i,6787] = data1.iloc[i,6787][:len(data1.iloc[i,6787])-1]"
   ]
  },
  {
   "cell_type": "code",
   "execution_count": null,
   "metadata": {
    "collapsed": true
   },
   "outputs": [],
   "source": [
    "import math\n",
    "idf = {}\n",
    "\n",
    "tmp = 0\n",
    "for ing in data1.columns:\n",
    "    if tmp == 0:\n",
    "        tmp = 1\n",
    "        continue\n",
    "    count = 0\n",
    "    for index,row in data1.iterrows():    \n",
    "        if int(row[ing]) > 0:\n",
    "            count+=1\n",
    "    if count!=0:\n",
    "        idf[ing] = math.log(21/count)\n",
    "    else:\n",
    "        idf[ing] = 0"
   ]
  },
  {
   "cell_type": "code",
   "execution_count": null,
   "metadata": {},
   "outputs": [],
   "source": [
    "#ingredients vs idf\n",
    "x = range(0,6787)  \n",
    "xTicks = list(idf.keys())\n",
    "y = list(idf.values())\n",
    "import pylab as pl\n",
    "pl.xticks(x, xTicks)\n",
    "pl.xticks(range(6787), xTicks,rotation = 90)\n",
    "pl.plot(x,y,'.')\n",
    "pl.show()"
   ]
  },
  {
   "cell_type": "code",
   "execution_count": null,
   "metadata": {
    "collapsed": true
   },
   "outputs": [],
   "source": [
    "ls = {}\n",
    "from __future__ import division\n",
    "tfidf_data = data1\n",
    "tmp = 0\n",
    "for ingredient in tfidf_data.columns:\n",
    "    if tmp == 0:\n",
    "        tmp = 1\n",
    "        continue\n",
    "    max_ing = tfidf_data[ingredient].astype(int).max()\n",
    "    for index,row in tfidf_data.iterrows():\n",
    "        if max_ing!=0:\n",
    "            row[ingredient] = idf[ingredient]*(float(float(row[ingredient])/float(max_ing)))\n",
    "        else:\n",
    "            row[ingredient] = 0\n"
   ]
  },
  {
   "cell_type": "code",
   "execution_count": null,
   "metadata": {},
   "outputs": [],
   "source": [
    "tfidf_data.head()"
   ]
  },
  {
   "cell_type": "code",
   "execution_count": null,
   "metadata": {
    "collapsed": true
   },
   "outputs": [],
   "source": [
    "import numpy as np; import pandas as pd\n",
    "from sklearn.metrics.pairwise import cosine_similarity\n",
    "coss = cosine_similarity(tfidf_data)"
   ]
  },
  {
   "cell_type": "code",
   "execution_count": null,
   "metadata": {},
   "outputs": [],
   "source": [
    "import matplotlib.pyplot as plt\n",
    "fig = plt.figure(figsize = (20,20))\n",
    "#ax = fig.add_subplot(111)\n",
    "cax = plt.matshow(coss,fignum =1)\n",
    "\n",
    "#ax.set_xticklabels(['']+alpha)\n",
    "fig.colorbar(cax)\n",
    "plt.show()"
   ]
  },
  {
   "cell_type": "code",
   "execution_count": null,
   "metadata": {
    "collapsed": true
   },
   "outputs": [],
   "source": [
    "cuisine_count = {}\n",
    "for cui in df_train['cuisine']:\n",
    "    if not cui in cuisine_count:\n",
    "            cuisine_count[cui] = 1\n",
    "    else:\n",
    "        cuisine_count[cui] += 1"
   ]
  },
  {
   "cell_type": "code",
   "execution_count": null,
   "metadata": {
    "collapsed": true
   },
   "outputs": [],
   "source": [
    "for index,row in df_train.iterrows():\n",
    "    l = []\n",
    "    for entry_in in df_train.loc[index,'ingredients']:\n",
    "        entry_in = entry_in.replace(' ','')\n",
    "        entry_in = entry_in.replace('-','')\n",
    "        entry_in = entry_in.replace('(','')\n",
    "        entry_in = entry_in.replace(')','')\n",
    "        entry_in = entry_in.replace('.','')\n",
    "        entry_in = entry_in.replace('%','')\n",
    "        entry_in = entry_in.replace('/','')\n",
    "        entry_in = entry_in.replace('\\\\','')\n",
    "        entry_in = entry_in.replace('&','')\n",
    "        entry_in = entry_in.replace(',','')\n",
    "        entry_in = entry_in.replace('\\'','')\n",
    "        entry_in = entry_in.replace('!','')\n",
    "        entry_in = entry_in.replace('1','')\n",
    "        entry_in = entry_in.replace('2','')\n",
    "        entry_in = entry_in.replace('4','')\n",
    "        entry_in = entry_in.replace('5','')\n",
    "        entry_in = entry_in.replace('3','')\n",
    "        entry_in = entry_in.replace('6','')\n",
    "        entry_in = entry_in.replace('7','')\n",
    "        entry_in = entry_in.replace('8','')\n",
    "        entry_in = entry_in.replace('9','')\n",
    "        entry_in = entry_in.replace('0','')\n",
    "        entry_in = entry_in.lower()\n",
    "        entry_in = entry_in.encode('ascii','ignore').decode('utf-8')\n",
    "        l.append(entry_in)\n",
    "    df_train.set_value(index,'ingredients',l)\n",
    "\n",
    "#df_train.to_csv('df_train.csv')"
   ]
  },
  {
   "cell_type": "code",
   "execution_count": null,
   "metadata": {
    "collapsed": true
   },
   "outputs": [],
   "source": [
    "data.head()"
   ]
  },
  {
   "cell_type": "code",
   "execution_count": null,
   "metadata": {
    "collapsed": true
   },
   "outputs": [],
   "source": [
    "print(cuisine_count)"
   ]
  },
  {
   "cell_type": "code",
   "execution_count": null,
   "metadata": {
    "collapsed": true
   },
   "outputs": [],
   "source": [
    "for ing in data.columns:\n",
    "    for index,row in data.iterrows():\n",
    "        data.loc[index,ing] = float(float(row[ing])/float(cuisine_count[index]))\n"
   ]
  },
  {
   "cell_type": "code",
   "execution_count": null,
   "metadata": {
    "collapsed": true
   },
   "outputs": [],
   "source": [
    "data.head()"
   ]
  },
  {
   "cell_type": "code",
   "execution_count": null,
   "metadata": {
    "collapsed": true
   },
   "outputs": [],
   "source": [
    "pred_cuisine = ''\n",
    "pred_correct = 0\n",
    "total_cuisine = 0\n",
    "tmp = 0\n",
    "\n",
    "for dish,row in df_train.iterrows():\n",
    "    pred_prob = 0\n",
    "    for cui, data_row in data.iterrows(): \n",
    "        if tmp==0:\n",
    "            tmp = 1\n",
    "            continue\n",
    "        prob = 1\n",
    "        for ing in df_train.loc[dish,'ingredients']:  \n",
    "            prob *= data.loc[cui,ing]*float(cuisine_count[cui]) \n",
    "            if prob > pred_prob:\n",
    "                pred_prob = prob\n",
    "                pred_cuisine = cui\n",
    "    #print()\n",
    "    if row['cuisine']==pred_cuisine:\n",
    "        pred_correct+=1\n",
    "    total_cuisine+=1\n",
    "    #print(pred_prob)\n",
    "    print(row['cuisine'],\":\",pred_cuisine)\n"
   ]
  },
  {
   "cell_type": "code",
   "execution_count": null,
   "metadata": {
    "collapsed": true
   },
   "outputs": [],
   "source": [
    "print(pred_correct)"
   ]
  },
  {
   "cell_type": "code",
   "execution_count": null,
   "metadata": {
    "collapsed": true
   },
   "outputs": [],
   "source": [
    "print(total_cuisine)"
   ]
  },
  {
   "cell_type": "code",
   "execution_count": null,
   "metadata": {
    "collapsed": true
   },
   "outputs": [],
   "source": [
    "print(pred_correct/total_cuisine)"
   ]
  },
  {
   "cell_type": "code",
   "execution_count": null,
   "metadata": {
    "collapsed": true
   },
   "outputs": [],
   "source": []
  }
 ],
 "metadata": {
  "kernelspec": {
   "display_name": "Python 2",
   "language": "python",
   "name": "python2"
  },
  "language_info": {
   "codemirror_mode": {
    "name": "ipython",
    "version": 2
   },
   "file_extension": ".py",
   "mimetype": "text/x-python",
   "name": "python",
   "nbconvert_exporter": "python",
   "pygments_lexer": "ipython2",
   "version": "2.7.14"
  }
 },
 "nbformat": 4,
 "nbformat_minor": 2
}
